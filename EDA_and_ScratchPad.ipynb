{
 "cells": [
  {
   "cell_type": "markdown",
   "metadata": {},
   "source": [
    "# Capstone\n",
    "\n",
    "Michael Schillawski, 10 April 2018\n",
    "\n",
    "Data Science Immersive, General Assembly"
   ]
  },
  {
   "cell_type": "markdown",
   "metadata": {},
   "source": [
    "## Imports"
   ]
  },
  {
   "cell_type": "code",
   "execution_count": 1,
   "metadata": {
    "ExecuteTime": {
     "end_time": "2018-04-09T17:20:30.217045Z",
     "start_time": "2018-04-09T17:20:28.716622Z"
    }
   },
   "outputs": [
    {
     "data": {
      "text/plain": [
       "'/Users/mjschillawski/Google Drive/Data/generalassembly/projects/GitHub Portfolio/capstone_project'"
      ]
     },
     "execution_count": 1,
     "metadata": {},
     "output_type": "execute_result"
    }
   ],
   "source": [
    "import os\n",
    "import json\n",
    "import re\n",
    "import string\n",
    "import multiprocessing\n",
    "import pickle\n",
    "\n",
    "import pandas as pd\n",
    "import numpy as np\n",
    "import matplotlib.pyplot as plt\n",
    "import seaborn as sns\n",
    "\n",
    "from pandas.io.json import json_normalize\n",
    "from nltk.tokenize import RegexpTokenizer\n",
    "from nltk.corpus import stopwords\n",
    "from fuzzywuzzy import fuzz\n",
    "from fuzzywuzzy import process\n",
    "from sklearn.feature_extraction.text import CountVectorizer\n",
    "from joblib import Parallel, delayed\n",
    "from tqdm import tqdm\n",
    "\n",
    "\n",
    "\n",
    "%matplotlib inline\n",
    "\n",
    "os.getcwd()"
   ]
  },
  {
   "cell_type": "markdown",
   "metadata": {},
   "source": [
    "## Load Data"
   ]
  },
  {
   "cell_type": "code",
   "execution_count": 2,
   "metadata": {
    "ExecuteTime": {
     "end_time": "2018-04-09T17:20:51.566693Z",
     "start_time": "2018-04-09T17:20:51.398751Z"
    },
    "collapsed": true
   },
   "outputs": [],
   "source": [
    "path = '/Users/mjschillawski/Desktop/Miscellaneous Data/Yummly28K/'\n",
    "file = 'data_records_27638.txt'\n",
    "\n",
    "data = pd.read_table(path+file,header=None,names=['recipe'],index_col=1)"
   ]
  },
  {
   "cell_type": "code",
   "execution_count": 3,
   "metadata": {
    "ExecuteTime": {
     "end_time": "2018-04-09T17:20:52.503523Z",
     "start_time": "2018-04-09T17:20:52.492640Z"
    }
   },
   "outputs": [
    {
     "data": {
      "text/html": [
       "<div>\n",
       "<style scoped>\n",
       "    .dataframe tbody tr th:only-of-type {\n",
       "        vertical-align: middle;\n",
       "    }\n",
       "\n",
       "    .dataframe tbody tr th {\n",
       "        vertical-align: top;\n",
       "    }\n",
       "\n",
       "    .dataframe thead th {\n",
       "        text-align: right;\n",
       "    }\n",
       "</style>\n",
       "<table border=\"1\" class=\"dataframe\">\n",
       "  <thead>\n",
       "    <tr style=\"text-align: right;\">\n",
       "      <th></th>\n",
       "      <th>recipe</th>\n",
       "    </tr>\n",
       "  </thead>\n",
       "  <tbody>\n",
       "    <tr>\n",
       "      <th>1</th>\n",
       "      <td>Mushroom-risotto-352492</td>\n",
       "    </tr>\n",
       "    <tr>\n",
       "      <th>2</th>\n",
       "      <td>Filipino-bbq-pork-skewers-352163</td>\n",
       "    </tr>\n",
       "    <tr>\n",
       "      <th>3</th>\n",
       "      <td>Mushroom-and-Roasted-Garlic-Risotto-525026</td>\n",
       "    </tr>\n",
       "    <tr>\n",
       "      <th>4</th>\n",
       "      <td>Gratin-Dauphinois-_scalloped-Potatoes-With-Che...</td>\n",
       "    </tr>\n",
       "    <tr>\n",
       "      <th>5</th>\n",
       "      <td>Delicious-Grilled-Hamburgers-Allrecipes</td>\n",
       "    </tr>\n",
       "  </tbody>\n",
       "</table>\n",
       "</div>"
      ],
      "text/plain": [
       "                                              recipe\n",
       "1                            Mushroom-risotto-352492\n",
       "2                   Filipino-bbq-pork-skewers-352163\n",
       "3         Mushroom-and-Roasted-Garlic-Risotto-525026\n",
       "4  Gratin-Dauphinois-_scalloped-Potatoes-With-Che...\n",
       "5            Delicious-Grilled-Hamburgers-Allrecipes"
      ]
     },
     "execution_count": 3,
     "metadata": {},
     "output_type": "execute_result"
    }
   ],
   "source": [
    "data.head()"
   ]
  },
  {
   "cell_type": "code",
   "execution_count": null,
   "metadata": {
    "ExecuteTime": {
     "end_time": "2018-04-09T17:20:53.558394Z",
     "start_time": "2018-04-09T17:20:53.548668Z"
    }
   },
   "outputs": [
    {
     "data": {
      "text/html": [
       "<div>\n",
       "<style scoped>\n",
       "    .dataframe tbody tr th:only-of-type {\n",
       "        vertical-align: middle;\n",
       "    }\n",
       "\n",
       "    .dataframe tbody tr th {\n",
       "        vertical-align: top;\n",
       "    }\n",
       "\n",
       "    .dataframe thead th {\n",
       "        text-align: right;\n",
       "    }\n",
       "</style>\n",
       "<table border=\"1\" class=\"dataframe\">\n",
       "  <thead>\n",
       "    <tr style=\"text-align: right;\">\n",
       "      <th></th>\n",
       "      <th>recipe</th>\n",
       "    </tr>\n",
       "  </thead>\n",
       "  <tbody>\n",
       "    <tr>\n",
       "      <th>27634</th>\n",
       "      <td>Saltimbocca-alla-Romana-824004</td>\n",
       "    </tr>\n",
       "    <tr>\n",
       "      <th>27635</th>\n",
       "      <td>Carrotini-MyRecipes-241041</td>\n",
       "    </tr>\n",
       "    <tr>\n",
       "      <th>27636</th>\n",
       "      <td>Brioche-531830</td>\n",
       "    </tr>\n",
       "    <tr>\n",
       "      <th>27637</th>\n",
       "      <td>Mexican-Hot-Chocolate-Doughnuts-501510</td>\n",
       "    </tr>\n",
       "    <tr>\n",
       "      <th>27638</th>\n",
       "      <td>Thai-Curry-Burrito-Bowl-with-Sweet-and-Spicy-T...</td>\n",
       "    </tr>\n",
       "  </tbody>\n",
       "</table>\n",
       "</div>"
      ],
      "text/plain": [
       "                                                  recipe\n",
       "27634                     Saltimbocca-alla-Romana-824004\n",
       "27635                         Carrotini-MyRecipes-241041\n",
       "27636                                     Brioche-531830\n",
       "27637             Mexican-Hot-Chocolate-Doughnuts-501510\n",
       "27638  Thai-Curry-Burrito-Bowl-with-Sweet-and-Spicy-T..."
      ]
     },
     "execution_count": 4,
     "metadata": {},
     "output_type": "execute_result"
    }
   ],
   "source": [
    "data.tail()"
   ]
  },
  {
   "cell_type": "code",
   "execution_count": null,
   "metadata": {
    "ExecuteTime": {
     "end_time": "2018-04-09T17:23:22.209108Z",
     "start_time": "2018-04-09T17:20:54.159286Z"
    }
   },
   "outputs": [],
   "source": [
    "path = '/Users/mjschillawski/Desktop/Miscellaneous Data/Yummly28K/metadata27638/'\n",
    "\n",
    "recipes = []\n",
    "\n",
    "for i in data.index:\n",
    "    num = str(i)\n",
    "    while len(num) < 5:\n",
    "        num = '0' + num\n",
    "        \n",
    "    # https://stackoverflow.com/questions/28373282/how-to-read-a-json-dictionary-type-file-with-pandas\n",
    "    with open(path+'meta'+num+'.json') as json_data:\n",
    "        recipe = json.load(json_data)\n",
    "        recipes.append(recipe)\n",
    "\n",
    "recipes = json_normalize(recipes)   \n",
    "recipes"
   ]
  },
  {
   "cell_type": "code",
   "execution_count": null,
   "metadata": {
    "ExecuteTime": {
     "end_time": "2018-04-09T17:23:54.903840Z",
     "start_time": "2018-04-09T17:23:31.283373Z"
    },
    "collapsed": true
   },
   "outputs": [],
   "source": [
    "recipes.to_csv('assets/recipes_dataset.csv')"
   ]
  },
  {
   "cell_type": "markdown",
   "metadata": {},
   "source": [
    "## EDA"
   ]
  },
  {
   "cell_type": "code",
   "execution_count": null,
   "metadata": {
    "ExecuteTime": {
     "end_time": "2018-04-09T17:24:11.536330Z",
     "start_time": "2018-04-09T17:24:04.253977Z"
    }
   },
   "outputs": [],
   "source": [
    "recipes = pd.read_csv('assets/recipes_dataset.csv',index_col=0)\n",
    "\n",
    "# transform ingredient field back into list when importing from CSV\n",
    "recipes['ingredientLines'] = recipes['ingredientLines'].apply(\n",
    "    lambda x: [item for item in x.split('\\'') if item not in ('\\,','[',']',', ')])\n",
    "\n",
    "recipes.head()"
   ]
  },
  {
   "cell_type": "code",
   "execution_count": null,
   "metadata": {},
   "outputs": [],
   "source": [
    "z = recipes.groupby('attributes.course')['ingredientLines']\\\n",
    "    .count().sort_values(ascending=False)\n",
    "z.head(10)"
   ]
  },
  {
   "cell_type": "code",
   "execution_count": null,
   "metadata": {},
   "outputs": [],
   "source": [
    "print(len(z))"
   ]
  },
  {
   "cell_type": "code",
   "execution_count": null,
   "metadata": {
    "ExecuteTime": {
     "end_time": "2018-04-09T17:24:12.105427Z",
     "start_time": "2018-04-09T17:24:12.101127Z"
    }
   },
   "outputs": [],
   "source": [
    "# distribution of courses\n",
    "fig, ax = plt.subplots(figsize=(12,10))\n",
    "ax.bar(z.index[0:10],z[0:10])\n",
    "_=plt.xticks(fontsize=22,rotation=90)\n",
    "_=plt.xlabel('Course',fontsize=24)\n",
    "_=plt.ylabel('Number',fontsize=24)\n",
    "_=plt.yticks(fontsize=22)\n",
    "_=plt.title('Recipes by Course',fontsize=28)\n"
   ]
  },
  {
   "cell_type": "code",
   "execution_count": null,
   "metadata": {
    "ExecuteTime": {
     "end_time": "2018-04-09T17:24:12.652387Z",
     "start_time": "2018-04-09T17:24:12.648801Z"
    }
   },
   "outputs": [],
   "source": [
    "# distribution of cuisines\n",
    "z = recipes.groupby('attributes.cuisine')['ingredientLines']\\\n",
    "    .count().sort_values(ascending=False)\n",
    "z.head(17)"
   ]
  },
  {
   "cell_type": "code",
   "execution_count": null,
   "metadata": {},
   "outputs": [],
   "source": [
    "print(len(z))"
   ]
  },
  {
   "cell_type": "code",
   "execution_count": null,
   "metadata": {},
   "outputs": [],
   "source": [
    "# distribution of cuisines\n",
    "sns.set_style('darkgrid')\n",
    "fig, ax = plt.subplots(figsize=(12,10))\n",
    "ax.barh(z.index[0:17],z[0:17])\n",
    "_=plt.xticks(fontsize=22,rotation=90)\n",
    "_=plt.xlabel('Number',fontsize=24)\n",
    "_=plt.ylabel('Cuisine',fontsize=24)\n",
    "_=plt.yticks(fontsize=22)\n",
    "_=plt.title('Recipes by Cuisine',fontsize=28)\n"
   ]
  },
  {
   "cell_type": "markdown",
   "metadata": {},
   "source": [
    "### Extract columns we care about"
   ]
  },
  {
   "cell_type": "code",
   "execution_count": null,
   "metadata": {
    "ExecuteTime": {
     "end_time": "2018-04-09T17:24:13.205273Z",
     "start_time": "2018-04-09T17:24:13.198111Z"
    },
    "collapsed": true
   },
   "outputs": [],
   "source": [
    "short_recipes = recipes[['attributes.course','attributes.cuisine','name','ingredientLines']]"
   ]
  },
  {
   "cell_type": "code",
   "execution_count": null,
   "metadata": {
    "ExecuteTime": {
     "end_time": "2018-04-09T17:24:14.931496Z",
     "start_time": "2018-04-09T17:24:13.934565Z"
    },
    "collapsed": true
   },
   "outputs": [],
   "source": [
    "short_recipes.to_csv('assets/short_recipes.csv')"
   ]
  },
  {
   "cell_type": "code",
   "execution_count": null,
   "metadata": {
    "ExecuteTime": {
     "end_time": "2018-04-09T17:24:15.670406Z",
     "start_time": "2018-04-09T17:24:15.661654Z"
    }
   },
   "outputs": [],
   "source": [
    "short_recipes['ingredientLines'][17464]"
   ]
  },
  {
   "cell_type": "markdown",
   "metadata": {},
   "source": [
    "## Natural Language Processing for Ingredients"
   ]
  },
  {
   "cell_type": "markdown",
   "metadata": {},
   "source": [
    "There are a number of components to this. Some are done on an individual, token level. Others are done across ingredients:\n",
    "\n",
    "**Token**:\n",
    "\n",
    "- Strip numbers (quantities)\n",
    "- Strip embedded numbers\n",
    "- Strip common measurements and their abbreviations\n",
    "- Strip punctuation\n",
    "- Strip preparation methods\n",
    "- Create custom stop word dictionary and remove those words from ingredient list\n",
    "\n",
    "**Ingredient-level**:\n",
    "\n",
    "- Inventory a \"typical\" pantry for expected, common items\n",
    "    - Fuzzy match pantry items against the ingredients\n",
    "    - Eliminate those ingredients to reduce recipe complexity"
   ]
  },
  {
   "cell_type": "markdown",
   "metadata": {},
   "source": [
    "### Preprocessing"
   ]
  },
  {
   "cell_type": "markdown",
   "metadata": {},
   "source": [
    "#### Single Threaded Parser"
   ]
  },
  {
   "cell_type": "code",
   "execution_count": null,
   "metadata": {
    "ExecuteTime": {
     "end_time": "2018-04-09T17:24:16.522304Z",
     "start_time": "2018-04-09T17:24:16.367045Z"
    },
    "collapsed": true
   },
   "outputs": [],
   "source": [
    "# single-threaded\n",
    "def process_ingredients(recipes,nondescript=0,drop_words=None):\n",
    "    # create the patterns\n",
    "\n",
    "    # import punctuation characters\n",
    "    # to remove all punctuation\n",
    "    punct = string.punctuation\n",
    "    punct_pattern = r\"[{}]\".format(punct)\n",
    "\n",
    "    # to remove all numbers\n",
    "    number_pattern = r\"\\d+\\s\"\n",
    "    \n",
    "    # embedded numbers\n",
    "    embed_num_pattern = r\".\\d+.\"\n",
    "    \n",
    "    # removed prep methods\n",
    "    prep_pattern = r\"[a-z]+ed\"\n",
    "    \n",
    "    # strip pluralization\n",
    "    plural_pattern = r\"s\\s\"\n",
    "    recipes_ingredients = []\n",
    "\n",
    "    for recipe in recipes:\n",
    "        ingredients = []\n",
    "    \n",
    "        for item in recipe:\n",
    "\n",
    "            # strip punctuation\n",
    "            text = re.sub(punct_pattern,\" \",item)\n",
    "            # strip standalone numbers\n",
    "            text = re.sub(number_pattern,\"\",text)\n",
    "            # strip embedded numbers\n",
    "            text = re.sub(embed_num_pattern,\"\",text)\n",
    "            # strip preparation methods\n",
    "            text = re.sub(prep_pattern,\"\",text)\n",
    "            # strip pluralization\n",
    "            text = re.sub(plural_pattern,\" \",text)\n",
    "            \n",
    "            # tokenize\n",
    "            tokenizer = RegexpTokenizer(r'\\w+')\n",
    "            processed_text = tokenizer.tokenize(text)\n",
    "\n",
    "            # remove stop words\n",
    "            processed_text = [text.lower() for text in processed_text if text.lower() \n",
    "                              not in stopwords.words('english')]\n",
    "            \n",
    "            # remove non-descript recipe words\n",
    "            if nondescript == 1 and drop_words != None:\n",
    "                processed_text = [text.lower() for text in processed_text if text.lower()\n",
    "                                 not in drop_words]\n",
    "                \n",
    "            # append all each list that to describe an ingredient of the recipe\n",
    "            ingredients.append(processed_text)\n",
    "\n",
    "        # joined space-separated strings\n",
    "        # attach all modifiers that describe each ingredient (non-separated)\n",
    "        clean_ingredients = [\" \".join(word) for word in ingredients]\n",
    "\n",
    "        # append all ingredients for each recipe\n",
    "        recipes_ingredients.append(clean_ingredients)    \n",
    "    \n",
    "    recipes_ingredients = [\" \".join(ingredient) for ingredient in recipes_ingredients]\n",
    "    recipes_ingredients = pd.DataFrame(recipes_ingredients)\n",
    "    return recipes_ingredients"
   ]
  },
  {
   "cell_type": "code",
   "execution_count": null,
   "metadata": {
    "ExecuteTime": {
     "end_time": "2018-04-09T17:24:17.340071Z",
     "start_time": "2018-04-09T17:24:17.229370Z"
    }
   },
   "outputs": [],
   "source": [
    "process_ingredients(short_recipes['ingredientLines'][:5])"
   ]
  },
  {
   "cell_type": "markdown",
   "metadata": {},
   "source": [
    "#### Multi-Threaded Parser"
   ]
  },
  {
   "cell_type": "code",
   "execution_count": null,
   "metadata": {
    "ExecuteTime": {
     "end_time": "2018-04-09T17:24:18.352431Z",
     "start_time": "2018-04-09T17:24:18.080034Z"
    },
    "collapsed": true
   },
   "outputs": [],
   "source": [
    "# multi-threaded\n",
    "def multi_process_ingredients(recipes,join=1,\n",
    "                              nondescript=0,drop_words=None,\n",
    "                              pantry=0,pantry_items=None):\n",
    "    # create the patterns\n",
    "\n",
    "    # import punctuation characters\n",
    "    # to remove all punctuation\n",
    "    punct = string.punctuation\n",
    "    punct_pattern = r\"[{}]\".format(punct)\n",
    "\n",
    "    # to remove all numbers\n",
    "    number_pattern = r\"\\d+\\s\"\n",
    "\n",
    "    # embedded numbers\n",
    "    embed_num_pattern = r\".\\d+.\"\n",
    "    \n",
    "    # removed prep methods\n",
    "    prep_pattern = r\"[a-z]+ed\"\n",
    "    \n",
    "    # strip pluralization\n",
    "    plural_pattern = r\"s\\s\"\n",
    "    \n",
    "    # strip -ly\n",
    "    ly_pattern = r\"[a-z]+ly\"\n",
    "    \n",
    "    # strip lead number\n",
    "    lead_pattern = r\"\\d+[a-z]+\"\n",
    "    lead_repl = r\"[a-z]+\"\n",
    "    \n",
    "    # trail number\n",
    "    trail_pattern = r\"[a-z]+\\d+\"\n",
    "    trail_repl = r\"[a-z]+\"\n",
    "    \n",
    "    recipes_ingredients = []\n",
    "    ingredients = []\n",
    "\n",
    "    for item in recipes:\n",
    "\n",
    "        # strip punctuation\n",
    "        text = re.sub(punct_pattern,\" \",item)\n",
    "        # strip standalone numbers\n",
    "        text = re.sub(number_pattern,\"\",text)\n",
    "        # strip embedded numbers\n",
    "        text = re.sub(embed_num_pattern,\"\",text)\n",
    "        # strip preparation methods\n",
    "        text = re.sub(prep_pattern,\"\",text)\n",
    "        # strip pluralization\n",
    "        text = re.sub(plural_pattern,\" \",text)\n",
    "        # strip ly\n",
    "        text = re.sub(ly_pattern,\"\",text)\n",
    "        # lead\n",
    "        text = re.sub(lead_pattern,lead_repl,text)\n",
    "        # trail\n",
    "        text = re.sub(trail_pattern,trail_repl,text)\n",
    "\n",
    "        # tokenize\n",
    "        tokenizer = RegexpTokenizer(r'\\w+')\n",
    "        processed_text = tokenizer.tokenize(text)\n",
    "\n",
    "        # remove stop words\n",
    "        processed_text = [text.lower() for text in processed_text if text.lower() \n",
    "                          not in stopwords.words('english')]\n",
    "        \n",
    "        # minimum word length\n",
    "        processed_text = [text for text in processed_text if len(text) > 2]\n",
    "\n",
    "        # remove non-descript recipe words\n",
    "        if nondescript == 1 and drop_words != None:\n",
    "            processed_text = [text.lower() for text in processed_text if text.lower()\n",
    "                             not in drop_words]\n",
    "\n",
    "        # append all each list that to describe an ingredient of the recipe\n",
    "        ingredients.append(processed_text)\n",
    "\n",
    "    # joined space-separated strings\n",
    "    # attach all modifiers that describe each ingredient (non-separated)\n",
    "    clean_ingredients = [\" \".join(word) for word in ingredients]\n",
    "    \n",
    "    # remove pantry items\n",
    "    if pantry == 1 and pantry_items != None:\n",
    "        clean_ingredients = [text.lower() for text in clean_ingredients if text.lower() not in pantry_items]\n",
    "\n",
    "    # append all ingredients for each recipe\n",
    "    recipes_ingredients.append(clean_ingredients)   \n",
    "    \n",
    "        \n",
    "    if join == 0:\n",
    "        pass\n",
    "    else:\n",
    "        recipes_ingredients = [\" \".join(ingredient) for ingredient in recipes_ingredients]\n",
    "    \n",
    "    return recipes_ingredients"
   ]
  },
  {
   "cell_type": "code",
   "execution_count": null,
   "metadata": {
    "ExecuteTime": {
     "end_time": "2018-04-09T17:25:40.105132Z",
     "start_time": "2018-04-09T17:24:19.064082Z"
    }
   },
   "outputs": [],
   "source": [
    "num_cores = multiprocessing.cpu_count()\n",
    "inputs = tqdm(short_recipes['ingredientLines'])\n",
    "\n",
    "if __name__ == \"__main__\":\n",
    "    recipes = Parallel(n_jobs=num_cores)(delayed(multi_process_ingredients)(i) for i in inputs)\n",
    "print(len(recipes))"
   ]
  },
  {
   "cell_type": "code",
   "execution_count": null,
   "metadata": {},
   "outputs": [],
   "source": [
    "recipes"
   ]
  },
  {
   "cell_type": "code",
   "execution_count": null,
   "metadata": {
    "ExecuteTime": {
     "end_time": "2018-04-09T17:25:40.848699Z",
     "start_time": "2018-04-09T17:25:40.841829Z"
    }
   },
   "outputs": [],
   "source": [
    "recipes[0]"
   ]
  },
  {
   "cell_type": "code",
   "execution_count": null,
   "metadata": {
    "ExecuteTime": {
     "end_time": "2018-04-09T17:25:41.553065Z",
     "start_time": "2018-04-09T17:25:41.534859Z"
    }
   },
   "outputs": [],
   "source": [
    "# 1 list of ingredients for each recipe\n",
    "recipes = [\" \".join(recipe) for recipe in recipes]\n",
    "recipes = pd.DataFrame(recipes)"
   ]
  },
  {
   "cell_type": "code",
   "execution_count": null,
   "metadata": {
    "ExecuteTime": {
     "end_time": "2018-04-09T17:25:41.854259Z",
     "start_time": "2018-04-09T17:25:41.843344Z"
    }
   },
   "outputs": [],
   "source": [
    "recipes.head()"
   ]
  },
  {
   "cell_type": "markdown",
   "metadata": {},
   "source": [
    "### Word Counts for Custom Stop Word Dictionary"
   ]
  },
  {
   "cell_type": "code",
   "execution_count": null,
   "metadata": {
    "ExecuteTime": {
     "end_time": "2018-04-09T17:25:52.343499Z",
     "start_time": "2018-04-09T17:25:42.144751Z"
    }
   },
   "outputs": [],
   "source": [
    "# word counts\n",
    "# get the words that occur most often in recipes\n",
    "# these are candidates for removal in order to simplify the axis that we compare recipes\n",
    "\n",
    "cvec = CountVectorizer(strip_accents=ascii)\n",
    "cvecdata = cvec.fit_transform(recipes[0])\n",
    "\n",
    "cvec_dense  = pd.DataFrame(cvecdata.todense(),\n",
    "             columns=cvec.get_feature_names())\n",
    "\n",
    "word_count = cvec_dense.sum(axis=0)    \n",
    "cw = word_count.sort_values(ascending = False)\n",
    "print(cw[0:25])\n",
    "\n",
    "cw_dict = dict(cw)"
   ]
  },
  {
   "cell_type": "code",
   "execution_count": null,
   "metadata": {},
   "outputs": [],
   "source": [
    "# distribution of courses\n",
    "sns.set_style('darkgrid')\n",
    "fig, ax = plt.subplots(figsize=(18,12))\n",
    "plt.bar(cw.index[0:25],cw[0:25])\n",
    "_=plt.xticks(fontsize=24,rotation=45)\n",
    "_=plt.xlabel('Word',fontsize=24)\n",
    "_=plt.ylabel('Number of Occurences',fontsize=24)\n",
    "_=plt.yticks(fontsize=24)\n",
    "_=plt.title('Most Frequent Words in Ingredients',fontsize=32)\n",
    "\n",
    "\n"
   ]
  },
  {
   "cell_type": "code",
   "execution_count": null,
   "metadata": {
    "ExecuteTime": {
     "end_time": "2018-04-09T17:25:54.203125Z",
     "start_time": "2018-04-09T17:25:54.084910Z"
    },
    "collapsed": true
   },
   "outputs": [],
   "source": [
    "# quick function to manually evaluate words that ought to be removed\n",
    "# https://stackoverflow.com/questions/5844672/delete-an-item-from-a-dictionary\n",
    "\n",
    "def removekey(d, key):\n",
    "    r = dict(d)\n",
    "    del r[key]\n",
    "    return r\n",
    "\n",
    "def eval_words(word_list):\n",
    "    keeps = []\n",
    "    nondescript = []\n",
    "    \n",
    "    nondescript_words = [] \n",
    "    keep_words = []\n",
    "    \n",
    "    for key,value in word_list.items():\n",
    "            word_eval = input('Keep {}: {}, y or n?'.format(key,value))\n",
    "        \n",
    "            if word_eval == 'n':\n",
    "                nondescript_words.append(key)\n",
    "            else:\n",
    "                keep_words.append(key)\n",
    "            \n",
    "            remaining_list = removekey(word_list,key)\n",
    "            \n",
    "            if len(nondescript_words) % 100 == 0:\n",
    "                nondescript = nondescript + nondescript_words\n",
    "                keeps = keeps + keep_words\n",
    "                \n",
    "                # empty holding lists\n",
    "                keep_words = []\n",
    "                nondescript_words = []\n",
    "                \n",
    "                prompt_continue = input('Continue: yes or no?')\n",
    "                if prompt_continue == \"yes\":\n",
    "                    pass\n",
    "                else:\n",
    "                    # export lists as pickles for recovery\n",
    "                    # store outside the environment to limit reprocessing\n",
    "                    words_lists = (keeps,nondescript,remaining_list)\n",
    "                    names = (\"keeps\",\"nondescript\",\"remaining\")\n",
    "                    for index,word in enumerate(words_lists):\n",
    "                        with open(\"assets/\"+names[index]+\".pickle\",\"wb\") as file:\n",
    "                            pickle.dump(word,file)\n",
    "                    return keeps, nondescript,remaining_list\n",
    "    \n",
    "    # export word lists for recovery\n",
    "    # so we don't have to do this multiple times\n",
    "    words_lists = (keeps,nondescript,remaining_list)\n",
    "    names = (\"keeps\",\"nondescript\",\"remaining\")\n",
    "    for index,word in enumerate(words_lists):\n",
    "        with open(\"assets/\"+names[index]+\".pickle\",\"wb\") as file:\n",
    "            pickle.dump(word,file)\n",
    "    \n",
    "    return keep_words, nondescript_words, remaining_list"
   ]
  },
  {
   "cell_type": "code",
   "execution_count": null,
   "metadata": {
    "ExecuteTime": {
     "end_time": "2018-04-09T17:25:55.662601Z",
     "start_time": "2018-04-09T17:25:55.266657Z"
    },
    "collapsed": true
   },
   "outputs": [],
   "source": [
    "# read in pickled results\n",
    "keep_list = []\n",
    "drop_list = []\n",
    "\n",
    "names = (\"_keeps\",\"_nondescript\")\n",
    "for name in names:\n",
    "    for index in range(6):\n",
    "        with open(\"assets/\"+str(index)+name+\".pickle\",'rb') as file_handle:\n",
    "            if name == \"_keeps\":\n",
    "                keep_list = keep_list + pickle.load(file_handle)\n",
    "            elif name == \"_nondescript\":\n",
    "                drop_list = drop_list + pickle.load(file_handle)"
   ]
  },
  {
   "cell_type": "code",
   "execution_count": null,
   "metadata": {
    "ExecuteTime": {
     "end_time": "2018-04-09T17:25:56.904611Z",
     "start_time": "2018-04-09T17:25:56.783041Z"
    }
   },
   "outputs": [],
   "source": [
    "# fix human error from ingredient classifications\n",
    "\n",
    "misclassed_words = ['dice','block','dipping','stems','liter','pestle','2lb','pad','addition','paleo',\n",
    "                    'smaller','teaspoons','gf','meatles','anytime','xe4utet','almond','scallions',\n",
    "                    'evoo','wing','non','meal','gala','escarole','nectarine','stuffing','ganache',\n",
    "                    'speck','hefe','champignon','silver','blade','kabocha','goudak','lindt','quorn',\n",
    "                    'choi','evoki','aioli','broil','drumette','tex','massamon','pao','steamer','dandelion',\n",
    "                    'bonnet','rapini','cakes','yucatero','cheek','latin','jimmy','quahog','cone','durum',\n",
    "                    'cornichons','banh','fryers','quantity','5tbsp','llime','chopping','spam','ink','plant',\n",
    "                    'triangular','valencia','tubetti','tubettini','cavatelli','perhap','livers','bee',\n",
    "                    'tartine','teacup','barlett','maker','xlour','jell','fat','free','package'\n",
    "                   ]\n",
    "\n",
    "for word in misclassed_words:\n",
    "    if word in keep_list and word not in drop_list:\n",
    "        drop_list.append(word)\n",
    "        keep_list.remove(word)\n",
    "        print('{} added to drop_list'.format(word))\n",
    "    elif word in drop_list and word not in keep_list:\n",
    "        keep_list.append(word)\n",
    "        drop_list.remove(word)\n",
    "        print('{} added to keep list'.format(word))\n",
    "    elif word in drop_list and word in keep_list:\n",
    "        print('! {} found on both lists !')\n",
    "    elif word not in drop_list and word not in keep_list:\n",
    "        print('! {} not found on either list ! You misspelled target word'.format(word))\n",
    "    else:\n",
    "        print('! Bigger problems !')\n",
    "\n",
    "with open(\"assets/keep_list.pickle\",\"wb\") as file:\n",
    "    pickle.dump(keep_list,file)\n",
    "with open(\"assets/drop_list.pickle\",\"wb\") as file:\n",
    "    pickle.dump(drop_list,file)"
   ]
  },
  {
   "cell_type": "markdown",
   "metadata": {},
   "source": [
    "## Identifying Ingredients in our Pantry"
   ]
  },
  {
   "cell_type": "code",
   "execution_count": null,
   "metadata": {
    "ExecuteTime": {
     "end_time": "2018-04-09T17:27:34.949852Z",
     "start_time": "2018-04-09T17:25:58.004783Z"
    }
   },
   "outputs": [],
   "source": [
    "# re-process ingredient list, this time removing the non-descript words identified above\n",
    "# getting data ready to identify similiarity with our pantry items\n",
    "\n",
    "num_cores = multiprocessing.cpu_count()\n",
    "inputs = tqdm(short_recipes['ingredientLines'])\n",
    "\n",
    "if __name__ == \"__main__\":\n",
    "    recipes_drops = Parallel(n_jobs=num_cores)(delayed(multi_process_ingredients)(i,join=0,\n",
    "                                                                                  nondescript=1,\n",
    "                                                                                  drop_words=drop_list\n",
    "                                                                                 )\n",
    "                                                                            for i in inputs)"
   ]
  },
  {
   "cell_type": "code",
   "execution_count": null,
   "metadata": {
    "ExecuteTime": {
     "end_time": "2018-04-09T17:27:37.002515Z",
     "start_time": "2018-04-09T17:27:36.995712Z"
    }
   },
   "outputs": [],
   "source": [
    "len(recipes_drops)"
   ]
  },
  {
   "cell_type": "code",
   "execution_count": null,
   "metadata": {
    "collapsed": true
   },
   "outputs": [],
   "source": [
    "recipes_drops[17464]"
   ]
  },
  {
   "cell_type": "markdown",
   "metadata": {},
   "source": [
    "### Pantry items"
   ]
  },
  {
   "cell_type": "code",
   "execution_count": null,
   "metadata": {
    "ExecuteTime": {
     "end_time": "2018-04-09T17:27:38.908460Z",
     "start_time": "2018-04-09T17:27:38.894539Z"
    },
    "collapsed": true
   },
   "outputs": [],
   "source": [
    "pantry = ['oregano','garlic powder','ground cumin','onion powder','ground mustard','hot hungarian paprika',\n",
    "          'mexican oregano','smoked paprika','dill weed','ground turmeric','ground ginger','ground cloves',\n",
    "         'cumin seed','cayenne pepper','chili powder','ground thyme','celery seed','curry powder',\n",
    "          'ground white pepper','paprika','ground nutmeg','old bay','maple syrup','thyme leaves',\n",
    "          'ground black pepper','black pepper','black peppercorns','crushed red pepper flakes','whole oregano',\n",
    "         'minced onion','fennel seed','cinnamon','dried basil','anise seed','bay leaves','bay leaf',\n",
    "          'ancho chili powder','ground cloves','coriander','vanilla extract','italian seasoning',\n",
    "          'apple cider vinegar','honey','corn starch','balsamic vinegar','bread crumbs','white wine vinegar',\n",
    "         'soy sauce','ketchup','tomato ketchup','red wine vinegar','vegatable oil','canola oil','sherry',\n",
    "          'baking powder','baking soda','molasses','peanut butter','olive oil','extra virgin olive oil','salt',\n",
    "          'sea salt','kosher salt','white vinegar','egg','eggs','egg whites','egg yolk','brown sugar','sugar',\n",
    "          'flour','evoo','butter','salt pepper']"
   ]
  },
  {
   "cell_type": "markdown",
   "metadata": {},
   "source": [
    "### Pantry processing"
   ]
  },
  {
   "cell_type": "code",
   "execution_count": null,
   "metadata": {
    "ExecuteTime": {
     "end_time": "2018-04-09T17:29:27.921552Z",
     "start_time": "2018-04-09T17:27:40.817378Z"
    }
   },
   "outputs": [],
   "source": [
    "# this eliminates ingredients that have been wholly reduced to blanks\n",
    "test = [[[ingredient for \n",
    "                   ingredient in recipe if ingredient != ''] \n",
    "                  for recipe in item] \n",
    "                 for item in recipes_drops]\n",
    "\n",
    "# we're going to take all the ingredients from every recipe and string them together\n",
    "# then take the set of that to find every unique ingredient\n",
    "ingredient_master = []\n",
    "for items in test:\n",
    "    for recipe in items:\n",
    "        ingredient_master = list(set(ingredient_master + recipe))\n",
    "print(len(ingredient_master))"
   ]
  },
  {
   "cell_type": "code",
   "execution_count": null,
   "metadata": {
    "ExecuteTime": {
     "end_time": "2018-04-09T17:29:30.760668Z",
     "start_time": "2018-04-09T17:29:30.729493Z"
    },
    "collapsed": true
   },
   "outputs": [],
   "source": [
    "# from the ingredient_master list, we eliminate ingredients that bear substantial similiarity to our pantry items\n",
    "# because these ingredients are IN our pantry, they are not essential for determining overall recipe similiarity\n",
    "# in fact, it gives us more degrees of freedom to find a match by increasing the range of possible flavor profiles\n",
    "# of a related recipe -- because we go into the pantry and pull out different spices other than those in our target\n",
    "# recipe\n",
    "# this will fuzzy matching (ratio)\n",
    "\n",
    "def match_pantry(ingredient_list,pantry_items=pantry,n_jobs=0):\n",
    "    if n_jobs == 1:\n",
    "        if ingredient_list in pantry_items:\n",
    "            return ingredient_list\n",
    "        else:\n",
    "            for item in pantry_items:\n",
    "                if fuzz.ratio(item,ingredient_list) > 70:\n",
    "                    return ingredient_list\n",
    "                    break\n",
    "                else:\n",
    "                    pass\n",
    "    else:\n",
    "        pantry_matches = []\n",
    "\n",
    "        for ingredient in ingredient_list:\n",
    "            if ingredient in pantry_items:\n",
    "                pantry_matches.append(ingredient)\n",
    "            else:\n",
    "                for item in pantry_items:\n",
    "                    if fuzz.ratio(item,ingredient) > 70:\n",
    "                        pantry_matches.append(ingredient)\n",
    "                        break\n",
    "        return pantry_matches  "
   ]
  },
  {
   "cell_type": "code",
   "execution_count": null,
   "metadata": {
    "ExecuteTime": {
     "end_time": "2018-04-09T17:29:40.501004Z",
     "start_time": "2018-04-09T17:29:33.550951Z"
    }
   },
   "outputs": [],
   "source": [
    "num_cores = multiprocessing.cpu_count()\n",
    "inputs = tqdm(ingredient_master)\n",
    "\n",
    "if __name__ == \"__main__\":\n",
    "    pantry_matches = Parallel(n_jobs=num_cores)(delayed(match_pantry)(i,pantry,n_jobs=1) for i in inputs)\n",
    "    \n",
    "pantry_matches = [match for match in pantry_matches if match != None]"
   ]
  },
  {
   "cell_type": "code",
   "execution_count": null,
   "metadata": {
    "ExecuteTime": {
     "end_time": "2018-04-09T17:29:43.508357Z",
     "start_time": "2018-04-09T17:29:43.503465Z"
    },
    "collapsed": true
   },
   "outputs": [],
   "source": [
    "with open(\"assets/pantry_matches.pickle\",\"wb\") as file:\n",
    "    pickle.dump(pantry_matches,file)"
   ]
  },
  {
   "cell_type": "markdown",
   "metadata": {},
   "source": [
    "## Reducing Ingredient Complexity"
   ]
  },
  {
   "cell_type": "code",
   "execution_count": null,
   "metadata": {
    "ExecuteTime": {
     "end_time": "2018-04-09T17:31:28.992008Z",
     "start_time": "2018-04-09T17:29:46.328700Z"
    }
   },
   "outputs": [],
   "source": [
    "# re-process ingredient list, this time removing the non-descript words identified above\n",
    "# getting data ready for recommender\n",
    "\n",
    "num_cores = multiprocessing.cpu_count()\n",
    "inputs = tqdm(short_recipes['ingredientLines'])\n",
    "\n",
    "if __name__ == \"__main__\":\n",
    "    cookbook = Parallel(n_jobs=num_cores)(delayed(multi_process_ingredients)(i,join=0,\n",
    "                                                                                  nondescript=1,\n",
    "                                                                                  drop_words=drop_list,\n",
    "                                                                                  pantry=1,\n",
    "                                                                                  pantry_items=pantry_matches\n",
    "                                                                                 )\n",
    "                                                                            for i in inputs)"
   ]
  },
  {
   "cell_type": "code",
   "execution_count": null,
   "metadata": {
    "ExecuteTime": {
     "end_time": "2018-04-09T17:32:56.494740Z",
     "start_time": "2018-04-09T17:31:32.542909Z"
    }
   },
   "outputs": [],
   "source": [
    "# this eliminates ingredients that have been wholly reduced to blanks\n",
    "test = [[[ingredient for \n",
    "                   ingredient in recipe if ingredient != ''] \n",
    "                  for recipe in item] \n",
    "                 for item in cookbook]\n",
    "\n",
    "# we're going to take all the ingredients from every recipe and string them together\n",
    "# then take the set of that to find every unique ingredient\n",
    "ingredient_master = []\n",
    "for items in test:\n",
    "    for recipe in items:\n",
    "        ingredient_master = list(set(ingredient_master + recipe))\n",
    "print(len(ingredient_master))"
   ]
  },
  {
   "cell_type": "code",
   "execution_count": null,
   "metadata": {
    "collapsed": true
   },
   "outputs": [],
   "source": [
    "test[17464]"
   ]
  },
  {
   "cell_type": "markdown",
   "metadata": {},
   "source": [
    "### Vectorize Ingredients"
   ]
  },
  {
   "cell_type": "markdown",
   "metadata": {},
   "source": [
    "vectorize\n",
    "cluster\n",
    "ingredient -> cluster\n",
    "recommender"
   ]
  },
  {
   "cell_type": "code",
   "execution_count": 34,
   "metadata": {
    "ExecuteTime": {
     "end_time": "2018-04-09T17:33:00.235941Z",
     "start_time": "2018-04-09T17:32:59.623553Z"
    }
   },
   "outputs": [
    {
     "data": {
      "text/plain": [
       "(31316, 7271)"
      ]
     },
     "execution_count": 34,
     "metadata": {},
     "output_type": "execute_result"
    }
   ],
   "source": [
    "ingredient_master_cvector = CountVectorizer(strip_accents=ascii)\n",
    "ingredient_master_cvectordata = ingredient_master_cvector.fit_transform(ingredient_master)\n",
    "\n",
    "ingredient_master_cvector_dense  = pd.DataFrame(ingredient_master_cvectordata.todense(),\n",
    "             columns=ingredient_master_cvector.get_feature_names())\n",
    "\n",
    "ingredient_master_cvector_dense.shape"
   ]
  },
  {
   "cell_type": "code",
   "execution_count": 35,
   "metadata": {
    "ExecuteTime": {
     "end_time": "2018-04-09T17:33:04.384101Z",
     "start_time": "2018-04-09T17:33:04.355129Z"
    }
   },
   "outputs": [
    {
     "data": {
      "text/html": [
       "<div>\n",
       "<style scoped>\n",
       "    .dataframe tbody tr th:only-of-type {\n",
       "        vertical-align: middle;\n",
       "    }\n",
       "\n",
       "    .dataframe tbody tr th {\n",
       "        vertical-align: top;\n",
       "    }\n",
       "\n",
       "    .dataframe thead th {\n",
       "        text-align: right;\n",
       "    }\n",
       "</style>\n",
       "<table border=\"1\" class=\"dataframe\">\n",
       "  <thead>\n",
       "    <tr style=\"text-align: right;\">\n",
       "      <th></th>\n",
       "      <th>1butter</th>\n",
       "      <th>1small</th>\n",
       "      <th>2butter</th>\n",
       "      <th>2heaping</th>\n",
       "      <th>2tb</th>\n",
       "      <th>5large</th>\n",
       "      <th>6large</th>\n",
       "      <th>aal</th>\n",
       "      <th>aardbeien</th>\n",
       "      <th>aata</th>\n",
       "      <th>...</th>\n",
       "      <th>zucchinis</th>\n",
       "      <th>zucker</th>\n",
       "      <th>zuckererbsen</th>\n",
       "      <th>zuckerschoten</th>\n",
       "      <th>zukali</th>\n",
       "      <th>zup</th>\n",
       "      <th>zwieb</th>\n",
       "      <th>zwiebelchen</th>\n",
       "      <th>zwiebelringe</th>\n",
       "      <th>zwischen</th>\n",
       "    </tr>\n",
       "  </thead>\n",
       "  <tbody>\n",
       "    <tr>\n",
       "      <th>0</th>\n",
       "      <td>0</td>\n",
       "      <td>0</td>\n",
       "      <td>0</td>\n",
       "      <td>0</td>\n",
       "      <td>0</td>\n",
       "      <td>0</td>\n",
       "      <td>0</td>\n",
       "      <td>0</td>\n",
       "      <td>0</td>\n",
       "      <td>0</td>\n",
       "      <td>...</td>\n",
       "      <td>0</td>\n",
       "      <td>0</td>\n",
       "      <td>0</td>\n",
       "      <td>0</td>\n",
       "      <td>0</td>\n",
       "      <td>0</td>\n",
       "      <td>0</td>\n",
       "      <td>0</td>\n",
       "      <td>0</td>\n",
       "      <td>0</td>\n",
       "    </tr>\n",
       "    <tr>\n",
       "      <th>1</th>\n",
       "      <td>0</td>\n",
       "      <td>0</td>\n",
       "      <td>0</td>\n",
       "      <td>0</td>\n",
       "      <td>0</td>\n",
       "      <td>0</td>\n",
       "      <td>0</td>\n",
       "      <td>0</td>\n",
       "      <td>0</td>\n",
       "      <td>0</td>\n",
       "      <td>...</td>\n",
       "      <td>0</td>\n",
       "      <td>0</td>\n",
       "      <td>0</td>\n",
       "      <td>0</td>\n",
       "      <td>0</td>\n",
       "      <td>0</td>\n",
       "      <td>0</td>\n",
       "      <td>0</td>\n",
       "      <td>0</td>\n",
       "      <td>0</td>\n",
       "    </tr>\n",
       "    <tr>\n",
       "      <th>2</th>\n",
       "      <td>0</td>\n",
       "      <td>0</td>\n",
       "      <td>0</td>\n",
       "      <td>0</td>\n",
       "      <td>0</td>\n",
       "      <td>0</td>\n",
       "      <td>0</td>\n",
       "      <td>0</td>\n",
       "      <td>0</td>\n",
       "      <td>0</td>\n",
       "      <td>...</td>\n",
       "      <td>0</td>\n",
       "      <td>0</td>\n",
       "      <td>0</td>\n",
       "      <td>0</td>\n",
       "      <td>0</td>\n",
       "      <td>0</td>\n",
       "      <td>0</td>\n",
       "      <td>0</td>\n",
       "      <td>0</td>\n",
       "      <td>0</td>\n",
       "    </tr>\n",
       "    <tr>\n",
       "      <th>3</th>\n",
       "      <td>0</td>\n",
       "      <td>0</td>\n",
       "      <td>0</td>\n",
       "      <td>0</td>\n",
       "      <td>0</td>\n",
       "      <td>0</td>\n",
       "      <td>0</td>\n",
       "      <td>0</td>\n",
       "      <td>0</td>\n",
       "      <td>0</td>\n",
       "      <td>...</td>\n",
       "      <td>0</td>\n",
       "      <td>0</td>\n",
       "      <td>0</td>\n",
       "      <td>0</td>\n",
       "      <td>0</td>\n",
       "      <td>0</td>\n",
       "      <td>0</td>\n",
       "      <td>0</td>\n",
       "      <td>0</td>\n",
       "      <td>0</td>\n",
       "    </tr>\n",
       "    <tr>\n",
       "      <th>4</th>\n",
       "      <td>0</td>\n",
       "      <td>0</td>\n",
       "      <td>0</td>\n",
       "      <td>0</td>\n",
       "      <td>0</td>\n",
       "      <td>0</td>\n",
       "      <td>0</td>\n",
       "      <td>0</td>\n",
       "      <td>0</td>\n",
       "      <td>0</td>\n",
       "      <td>...</td>\n",
       "      <td>0</td>\n",
       "      <td>0</td>\n",
       "      <td>0</td>\n",
       "      <td>0</td>\n",
       "      <td>0</td>\n",
       "      <td>0</td>\n",
       "      <td>0</td>\n",
       "      <td>0</td>\n",
       "      <td>0</td>\n",
       "      <td>0</td>\n",
       "    </tr>\n",
       "  </tbody>\n",
       "</table>\n",
       "<p>5 rows × 7271 columns</p>\n",
       "</div>"
      ],
      "text/plain": [
       "   1butter  1small  2butter  2heaping  2tb  5large  6large  aal  aardbeien  \\\n",
       "0        0       0        0         0    0       0       0    0          0   \n",
       "1        0       0        0         0    0       0       0    0          0   \n",
       "2        0       0        0         0    0       0       0    0          0   \n",
       "3        0       0        0         0    0       0       0    0          0   \n",
       "4        0       0        0         0    0       0       0    0          0   \n",
       "\n",
       "   aata    ...     zucchinis  zucker  zuckererbsen  zuckerschoten  zukali  \\\n",
       "0     0    ...             0       0             0              0       0   \n",
       "1     0    ...             0       0             0              0       0   \n",
       "2     0    ...             0       0             0              0       0   \n",
       "3     0    ...             0       0             0              0       0   \n",
       "4     0    ...             0       0             0              0       0   \n",
       "\n",
       "   zup  zwieb  zwiebelchen  zwiebelringe  zwischen  \n",
       "0    0      0            0             0         0  \n",
       "1    0      0            0             0         0  \n",
       "2    0      0            0             0         0  \n",
       "3    0      0            0             0         0  \n",
       "4    0      0            0             0         0  \n",
       "\n",
       "[5 rows x 7271 columns]"
      ]
     },
     "execution_count": 35,
     "metadata": {},
     "output_type": "execute_result"
    }
   ],
   "source": [
    "ingredient_master_cvector_dense.head()"
   ]
  },
  {
   "cell_type": "markdown",
   "metadata": {},
   "source": [
    "### Agglomerative Clustering of Ingredient Vectors\n",
    "\n",
    "To determine which ingredients have similar words --> which ingredients are closest"
   ]
  },
  {
   "cell_type": "code",
   "execution_count": 36,
   "metadata": {
    "ExecuteTime": {
     "end_time": "2018-04-09T17:33:07.961802Z",
     "start_time": "2018-04-09T17:33:07.952500Z"
    },
    "collapsed": true
   },
   "outputs": [],
   "source": [
    "from matplotlib import pyplot as plt\n",
    "import seaborn as sns\n",
    "from scipy.cluster.hierarchy import dendrogram, linkage, cophenet, fcluster\n",
    "from scipy.spatial.distance import pdist\n",
    "import numpy as np\n",
    "import pandas as pd\n",
    "import os\n",
    "import seaborn as sns"
   ]
  },
  {
   "cell_type": "code",
   "execution_count": 52,
   "metadata": {
    "ExecuteTime": {
     "end_time": "2018-04-08T23:36:19.592553Z",
     "start_time": "2018-04-08T22:03:09.607238Z"
    }
   },
   "outputs": [
    {
     "data": {
      "image/png": "[encoded data removed]",
      "text/plain": [
       "<Figure size 432x288 with 1 Axes>"
      ]
     },
     "metadata": {},
     "output_type": "display_data"
    }
   ],
   "source": [
    "def plot_dendogram(df):\n",
    "    \n",
    "    # Data preparation:\n",
    "    X = df.values\n",
    "    Z = linkage(X, 'ward')\n",
    "    \n",
    "    # Plotting:\n",
    "    plt.title('Dendrogram')\n",
    "    plt.xlabel('Index Numbers')\n",
    "    plt.ylabel('Distance')\n",
    "    dendrogram(\n",
    "        Z,\n",
    "        leaf_rotation=90.,  \n",
    "        leaf_font_size=8.,\n",
    "    )\n",
    "    plt.show()\n",
    "    \n",
    "    \n",
    "plot_dendogram(ingredient_master_cvector_dense)"
   ]
  },
  {
   "cell_type": "code",
   "execution_count": 37,
   "metadata": {
    "ExecuteTime": {
     "end_time": "2018-04-09T18:57:11.310104Z",
     "start_time": "2018-04-09T17:33:11.645829Z"
    },
    "collapsed": true
   },
   "outputs": [],
   "source": [
    "X = ingredient_master_cvector_dense.values\n",
    "Z = linkage(X, 'ward')\n",
    "clusters = fcluster(Z,5, criterion='distance')\n",
    "\n",
    "with open(\"assets/clusters.pickle\",\"wb\") as file:\n",
    "    pickle.dump(clusters,file)"
   ]
  },
  {
   "cell_type": "code",
   "execution_count": 40,
   "metadata": {
    "ExecuteTime": {
     "end_time": "2018-04-09T18:58:38.686368Z",
     "start_time": "2018-04-09T18:58:38.680666Z"
    }
   },
   "outputs": [
    {
     "data": {
      "text/plain": [
       "1258"
      ]
     },
     "execution_count": 40,
     "metadata": {},
     "output_type": "execute_result"
    }
   ],
   "source": [
    "clusters.max()"
   ]
  },
  {
   "cell_type": "markdown",
   "metadata": {
    "ExecuteTime": {
     "end_time": "2018-04-08T22:03:07.753292Z",
     "start_time": "2018-04-08T22:03:07.748896Z"
    }
   },
   "source": [
    "### Represent Recipes as vectors of clusters, instead of vectors of ingredients"
   ]
  },
  {
   "cell_type": "code",
   "execution_count": 41,
   "metadata": {
    "ExecuteTime": {
     "end_time": "2018-04-09T19:01:59.823912Z",
     "start_time": "2018-04-09T19:01:49.442657Z"
    },
    "collapsed": true
   },
   "outputs": [],
   "source": [
    "ingredient_master_cvector_dense['clusters'] = clusters"
   ]
  },
  {
   "cell_type": "code",
   "execution_count": 48,
   "metadata": {
    "ExecuteTime": {
     "end_time": "2018-04-09T19:05:05.475706Z",
     "start_time": "2018-04-09T19:05:05.468422Z"
    },
    "collapsed": true
   },
   "outputs": [],
   "source": [
    "ingredient_clusters = pd.DataFrame(ingredient_master,clusters)"
   ]
  },
  {
   "cell_type": "code",
   "execution_count": 65,
   "metadata": {
    "ExecuteTime": {
     "end_time": "2018-04-09T19:14:17.464929Z",
     "start_time": "2018-04-09T19:14:17.415893Z"
    }
   },
   "outputs": [
    {
     "data": {
      "text/plain": [
       "56       615\n",
       "441      614\n",
       "451      615\n",
       "456      127\n",
       "467      611\n",
       "623      616\n",
       "674      589\n",
       "1055     609\n",
       "1132     619\n",
       "1210     615\n",
       "1595     127\n",
       "1743     616\n",
       "1798     612\n",
       "2016     614\n",
       "2022     614\n",
       "2100    1257\n",
       "2158     612\n",
       "2251     609\n",
       "2258     612\n",
       "2292     616\n",
       "2333     614\n",
       "2358     611\n",
       "2360     617\n",
       "2370     613\n",
       "2457     145\n",
       "Name: clusters, dtype: int32"
      ]
     },
     "execution_count": 65,
     "metadata": {},
     "output_type": "execute_result"
    }
   ],
   "source": [
    "ingredient_master_cvector_dense[ingredient_master_cvector_dense['mushroom']==1]['clusters'][:25]"
   ]
  },
  {
   "cell_type": "code",
   "execution_count": 64,
   "metadata": {
    "ExecuteTime": {
     "end_time": "2018-04-09T19:13:40.327576Z",
     "start_time": "2018-04-09T19:13:40.313512Z"
    }
   },
   "outputs": [
    {
     "data": {
      "text/html": [
       "<div>\n",
       "<style scoped>\n",
       "    .dataframe tbody tr th:only-of-type {\n",
       "        vertical-align: middle;\n",
       "    }\n",
       "\n",
       "    .dataframe tbody tr th {\n",
       "        vertical-align: top;\n",
       "    }\n",
       "\n",
       "    .dataframe thead th {\n",
       "        text-align: right;\n",
       "    }\n",
       "</style>\n",
       "<table border=\"1\" class=\"dataframe\">\n",
       "  <thead>\n",
       "    <tr style=\"text-align: right;\">\n",
       "      <th></th>\n",
       "      <th>0</th>\n",
       "    </tr>\n",
       "  </thead>\n",
       "  <tbody>\n",
       "    <tr>\n",
       "      <th>617</th>\n",
       "      <td>porcini mushroom water</td>\n",
       "    </tr>\n",
       "    <tr>\n",
       "      <th>617</th>\n",
       "      <td>mushroom mix shitake porcini oyster</td>\n",
       "    </tr>\n",
       "    <tr>\n",
       "      <th>617</th>\n",
       "      <td>porcini mushroom ground</td>\n",
       "    </tr>\n",
       "    <tr>\n",
       "      <th>617</th>\n",
       "      <td>porcini portobellini mushroom</td>\n",
       "    </tr>\n",
       "    <tr>\n",
       "      <th>617</th>\n",
       "      <td>mushroom porcini chanterelle oyster</td>\n",
       "    </tr>\n",
       "    <tr>\n",
       "      <th>617</th>\n",
       "      <td>mushroom crimini porcini shiitake</td>\n",
       "    </tr>\n",
       "    <tr>\n",
       "      <th>617</th>\n",
       "      <td>porcini shiitake mushroom</td>\n",
       "    </tr>\n",
       "    <tr>\n",
       "      <th>617</th>\n",
       "      <td>mushroom porcini oyster chanterelle lobster gehog</td>\n",
       "    </tr>\n",
       "    <tr>\n",
       "      <th>617</th>\n",
       "      <td>porcini mushroom cèpe</td>\n",
       "    </tr>\n",
       "    <tr>\n",
       "      <th>617</th>\n",
       "      <td>mushroom porcini water</td>\n",
       "    </tr>\n",
       "    <tr>\n",
       "      <th>617</th>\n",
       "      <td>porcini mushroom hot water</td>\n",
       "    </tr>\n",
       "    <tr>\n",
       "      <th>617</th>\n",
       "      <td>xackage porcini mushroom</td>\n",
       "    </tr>\n",
       "    <tr>\n",
       "      <th>617</th>\n",
       "      <td>mushroom porcini</td>\n",
       "    </tr>\n",
       "    <tr>\n",
       "      <th>617</th>\n",
       "      <td>porcini mushroom grit</td>\n",
       "    </tr>\n",
       "    <tr>\n",
       "      <th>617</th>\n",
       "      <td>porcini mushroom earthy</td>\n",
       "    </tr>\n",
       "    <tr>\n",
       "      <th>617</th>\n",
       "      <td>mushroom chanterelle porcini shitake</td>\n",
       "    </tr>\n",
       "    <tr>\n",
       "      <th>617</th>\n",
       "      <td>porcini mushroom</td>\n",
       "    </tr>\n",
       "  </tbody>\n",
       "</table>\n",
       "</div>"
      ],
      "text/plain": [
       "                                                     0\n",
       "617                             porcini mushroom water\n",
       "617                mushroom mix shitake porcini oyster\n",
       "617                            porcini mushroom ground\n",
       "617                      porcini portobellini mushroom\n",
       "617                mushroom porcini chanterelle oyster\n",
       "617                  mushroom crimini porcini shiitake\n",
       "617                          porcini shiitake mushroom\n",
       "617  mushroom porcini oyster chanterelle lobster gehog\n",
       "617                              porcini mushroom cèpe\n",
       "617                             mushroom porcini water\n",
       "617                         porcini mushroom hot water\n",
       "617                           xackage porcini mushroom\n",
       "617                                   mushroom porcini\n",
       "617                              porcini mushroom grit\n",
       "617                            porcini mushroom earthy\n",
       "617               mushroom chanterelle porcini shitake\n",
       "617                                   porcini mushroom"
      ]
     },
     "execution_count": 64,
     "metadata": {},
     "output_type": "execute_result"
    }
   ],
   "source": [
    "ingredient_clusters.loc[617,:]"
   ]
  },
  {
   "cell_type": "code",
   "execution_count": 72,
   "metadata": {
    "ExecuteTime": {
     "end_time": "2018-04-09T19:29:45.494615Z",
     "start_time": "2018-04-09T19:29:45.489636Z"
    },
    "collapsed": true
   },
   "outputs": [],
   "source": [
    "ingredient_clusters.reset_index(inplace=True)"
   ]
  },
  {
   "cell_type": "code",
   "execution_count": 77,
   "metadata": {
    "ExecuteTime": {
     "end_time": "2018-04-09T19:30:56.868977Z",
     "start_time": "2018-04-09T19:30:56.862933Z"
    },
    "collapsed": true
   },
   "outputs": [],
   "source": [
    "ingredient_clusters.rename(columns={'index':'ingredient cluster',0:'ingredient'},inplace=True)"
   ]
  },
  {
   "cell_type": "code",
   "execution_count": 79,
   "metadata": {
    "ExecuteTime": {
     "end_time": "2018-04-09T19:31:13.237765Z",
     "start_time": "2018-04-09T19:31:13.231856Z"
    },
    "collapsed": true
   },
   "outputs": [],
   "source": [
    "ingredient_clusters.set_index('ingredient',inplace=True)"
   ]
  },
  {
   "cell_type": "markdown",
   "metadata": {
    "ExecuteTime": {
     "end_time": "2018-04-06T19:16:47.635694Z",
     "start_time": "2018-04-06T15:45:39.597Z"
    }
   },
   "source": [
    "## Recommender"
   ]
  },
  {
   "cell_type": "markdown",
   "metadata": {},
   "source": [
    "I think I need to process ingredients 2 ways. As I did it above, it's fine. I lump all the ingredients together in order to run it through countvectorizer. \n",
    "\n",
    "When I prep data for the recommendation engine, I think I need to treat each ingredient, rather than each word as the unit of comparison. Still subject to analysis. I can probably stand it up as."
   ]
  },
  {
   "cell_type": "code",
   "execution_count": 68,
   "metadata": {
    "ExecuteTime": {
     "end_time": "2018-04-09T19:27:40.943453Z",
     "start_time": "2018-04-09T19:27:40.925421Z"
    },
    "collapsed": true
   },
   "outputs": [],
   "source": [
    "# reduce extra layer in cookbook\n",
    "new_cookbook = []\n",
    "for chapter in cookbook:\n",
    "    for recipe in chapter:\n",
    "        new_cookbook.append(recipe)\n",
    "cookbook = new_cookbook"
   ]
  },
  {
   "cell_type": "code",
   "execution_count": 101,
   "metadata": {
    "ExecuteTime": {
     "end_time": "2018-04-09T19:42:52.722339Z",
     "start_time": "2018-04-09T19:42:52.559477Z"
    },
    "collapsed": true
   },
   "outputs": [],
   "source": [
    "# this eliminates ingredients that have been wholly reduced to blanks\n",
    "cookbook_nb = [[ingredient for \n",
    "                   ingredient in recipe if ingredient != ''] \n",
    "                  for recipe in cookbook]"
   ]
  },
  {
   "cell_type": "code",
   "execution_count": 117,
   "metadata": {
    "ExecuteTime": {
     "end_time": "2018-04-09T20:23:19.982178Z",
     "start_time": "2018-04-09T20:23:19.976913Z"
    },
    "collapsed": true
   },
   "outputs": [],
   "source": [
    "def cluster_vectors(recipe):\n",
    "    cv_recipe = [ingredient_clusters.at[ingredient,'ingredient cluster'] for ingredient in recipe]\n",
    "    return cv_recipe"
   ]
  },
  {
   "cell_type": "code",
   "execution_count": 128,
   "metadata": {
    "ExecuteTime": {
     "end_time": "2018-04-09T20:29:13.123933Z",
     "start_time": "2018-04-09T20:29:09.864184Z"
    }
   },
   "outputs": [
    {
     "name": "stderr",
     "output_type": "stream",
     "text": [
      "100%|██████████| 27638/27638 [00:02<00:00, 9413.97it/s]\n"
     ]
    }
   ],
   "source": [
    "# re-process ingredient list, this time removing the non-descript words identified above\n",
    "# getting data ready for recommender\n",
    "\n",
    "num_cores = multiprocessing.cpu_count()\n",
    "inputs = tqdm(cookbook_nb)\n",
    "\n",
    "if __name__ == \"__main__\":\n",
    "    cv_cookbook = Parallel(n_jobs=num_cores)(delayed(cluster_vectors)(i) for i in inputs)"
   ]
  },
  {
   "cell_type": "markdown",
   "metadata": {},
   "source": [
    "## Recommendation Engine"
   ]
  },
  {
   "cell_type": "markdown",
   "metadata": {},
   "source": [
    "### Build ingredient matrix using countvectorizer"
   ]
  },
  {
   "cell_type": "code",
   "execution_count": 151,
   "metadata": {
    "ExecuteTime": {
     "end_time": "2018-04-09T20:34:07.501620Z",
     "start_time": "2018-04-09T20:34:05.020388Z"
    },
    "collapsed": true
   },
   "outputs": [],
   "source": [
    "cv_recipes = pd.DataFrame(index=np.arange(len(cv_cookbook)),columns=np.arange(clusters.max()))"
   ]
  },
  {
   "cell_type": "code",
   "execution_count": 152,
   "metadata": {
    "ExecuteTime": {
     "end_time": "2018-04-09T20:34:27.617857Z",
     "start_time": "2018-04-09T20:34:14.052355Z"
    },
    "collapsed": true
   },
   "outputs": [],
   "source": [
    "for index,cv_recipe in enumerate(cv_cookbook):\n",
    "    for cv_ingredient in cv_recipe:\n",
    "        cv_recipes.at[index,cv_ingredient] = 1\n",
    "cv_recipes.fillna(0,inplace=True)"
   ]
  },
  {
   "cell_type": "markdown",
   "metadata": {
    "ExecuteTime": {
     "end_time": "2018-04-04T17:06:35.612793Z",
     "start_time": "2018-04-04T17:06:35.609338Z"
    }
   },
   "source": [
    "### Recommender"
   ]
  },
  {
   "cell_type": "code",
   "execution_count": 158,
   "metadata": {
    "ExecuteTime": {
     "end_time": "2018-04-09T20:38:41.729780Z",
     "start_time": "2018-04-09T20:38:41.725331Z"
    },
    "collapsed": true
   },
   "outputs": [],
   "source": [
    "def mean_center_rows(df):\n",
    "    return (df.T - df.mean(axis=1)).T"
   ]
  },
  {
   "cell_type": "code",
   "execution_count": 159,
   "metadata": {
    "ExecuteTime": {
     "end_time": "2018-04-09T20:39:20.824624Z",
     "start_time": "2018-04-09T20:39:18.122430Z"
    },
    "collapsed": true
   },
   "outputs": [],
   "source": [
    "recipes_mc = mean_center_rows(cv_recipes)"
   ]
  },
  {
   "cell_type": "code",
   "execution_count": 160,
   "metadata": {
    "ExecuteTime": {
     "end_time": "2018-04-09T20:39:29.340101Z",
     "start_time": "2018-04-09T20:39:27.698494Z"
    }
   },
   "outputs": [
    {
     "data": {
      "text/plain": [
       "0"
      ]
     },
     "execution_count": 160,
     "metadata": {},
     "output_type": "execute_result"
    }
   ],
   "source": [
    "recipes_mc.isnull().sum().sum()"
   ]
  },
  {
   "cell_type": "code",
   "execution_count": 161,
   "metadata": {
    "ExecuteTime": {
     "end_time": "2018-04-09T20:39:35.894838Z",
     "start_time": "2018-04-09T20:39:35.857069Z"
    },
    "scrolled": true
   },
   "outputs": [
    {
     "data": {
      "text/html": [
       "<div>\n",
       "<style scoped>\n",
       "    .dataframe tbody tr th:only-of-type {\n",
       "        vertical-align: middle;\n",
       "    }\n",
       "\n",
       "    .dataframe tbody tr th {\n",
       "        vertical-align: top;\n",
       "    }\n",
       "\n",
       "    .dataframe thead th {\n",
       "        text-align: right;\n",
       "    }\n",
       "</style>\n",
       "<table border=\"1\" class=\"dataframe\">\n",
       "  <thead>\n",
       "    <tr style=\"text-align: right;\">\n",
       "      <th></th>\n",
       "      <th>0</th>\n",
       "      <th>1</th>\n",
       "      <th>2</th>\n",
       "      <th>3</th>\n",
       "      <th>4</th>\n",
       "      <th>5</th>\n",
       "      <th>6</th>\n",
       "      <th>7</th>\n",
       "      <th>8</th>\n",
       "      <th>9</th>\n",
       "      <th>...</th>\n",
       "      <th>1249</th>\n",
       "      <th>1250</th>\n",
       "      <th>1251</th>\n",
       "      <th>1252</th>\n",
       "      <th>1253</th>\n",
       "      <th>1254</th>\n",
       "      <th>1255</th>\n",
       "      <th>1256</th>\n",
       "      <th>1257</th>\n",
       "      <th>1258</th>\n",
       "    </tr>\n",
       "  </thead>\n",
       "  <tbody>\n",
       "    <tr>\n",
       "      <th>0</th>\n",
       "      <td>-0.003971</td>\n",
       "      <td>-0.003971</td>\n",
       "      <td>-0.003971</td>\n",
       "      <td>-0.003971</td>\n",
       "      <td>-0.003971</td>\n",
       "      <td>-0.003971</td>\n",
       "      <td>-0.003971</td>\n",
       "      <td>-0.003971</td>\n",
       "      <td>-0.003971</td>\n",
       "      <td>-0.003971</td>\n",
       "      <td>...</td>\n",
       "      <td>-0.003971</td>\n",
       "      <td>-0.003971</td>\n",
       "      <td>-0.003971</td>\n",
       "      <td>-0.003971</td>\n",
       "      <td>-0.003971</td>\n",
       "      <td>-0.003971</td>\n",
       "      <td>-0.003971</td>\n",
       "      <td>-0.003971</td>\n",
       "      <td>-0.003971</td>\n",
       "      <td>-0.003971</td>\n",
       "    </tr>\n",
       "    <tr>\n",
       "      <th>1</th>\n",
       "      <td>-0.003177</td>\n",
       "      <td>-0.003177</td>\n",
       "      <td>-0.003177</td>\n",
       "      <td>-0.003177</td>\n",
       "      <td>-0.003177</td>\n",
       "      <td>-0.003177</td>\n",
       "      <td>-0.003177</td>\n",
       "      <td>-0.003177</td>\n",
       "      <td>-0.003177</td>\n",
       "      <td>-0.003177</td>\n",
       "      <td>...</td>\n",
       "      <td>-0.003177</td>\n",
       "      <td>-0.003177</td>\n",
       "      <td>-0.003177</td>\n",
       "      <td>-0.003177</td>\n",
       "      <td>-0.003177</td>\n",
       "      <td>-0.003177</td>\n",
       "      <td>-0.003177</td>\n",
       "      <td>-0.003177</td>\n",
       "      <td>-0.003177</td>\n",
       "      <td>-0.003177</td>\n",
       "    </tr>\n",
       "    <tr>\n",
       "      <th>2</th>\n",
       "      <td>-0.008737</td>\n",
       "      <td>-0.008737</td>\n",
       "      <td>-0.008737</td>\n",
       "      <td>-0.008737</td>\n",
       "      <td>-0.008737</td>\n",
       "      <td>-0.008737</td>\n",
       "      <td>-0.008737</td>\n",
       "      <td>-0.008737</td>\n",
       "      <td>-0.008737</td>\n",
       "      <td>-0.008737</td>\n",
       "      <td>...</td>\n",
       "      <td>-0.008737</td>\n",
       "      <td>-0.008737</td>\n",
       "      <td>-0.008737</td>\n",
       "      <td>-0.008737</td>\n",
       "      <td>-0.008737</td>\n",
       "      <td>-0.008737</td>\n",
       "      <td>-0.008737</td>\n",
       "      <td>-0.008737</td>\n",
       "      <td>-0.008737</td>\n",
       "      <td>-0.008737</td>\n",
       "    </tr>\n",
       "    <tr>\n",
       "      <th>3</th>\n",
       "      <td>-0.003177</td>\n",
       "      <td>-0.003177</td>\n",
       "      <td>-0.003177</td>\n",
       "      <td>-0.003177</td>\n",
       "      <td>-0.003177</td>\n",
       "      <td>-0.003177</td>\n",
       "      <td>-0.003177</td>\n",
       "      <td>-0.003177</td>\n",
       "      <td>-0.003177</td>\n",
       "      <td>-0.003177</td>\n",
       "      <td>...</td>\n",
       "      <td>-0.003177</td>\n",
       "      <td>-0.003177</td>\n",
       "      <td>-0.003177</td>\n",
       "      <td>-0.003177</td>\n",
       "      <td>-0.003177</td>\n",
       "      <td>-0.003177</td>\n",
       "      <td>-0.003177</td>\n",
       "      <td>-0.003177</td>\n",
       "      <td>-0.003177</td>\n",
       "      <td>-0.003177</td>\n",
       "    </tr>\n",
       "    <tr>\n",
       "      <th>4</th>\n",
       "      <td>-0.002383</td>\n",
       "      <td>-0.002383</td>\n",
       "      <td>-0.002383</td>\n",
       "      <td>-0.002383</td>\n",
       "      <td>-0.002383</td>\n",
       "      <td>-0.002383</td>\n",
       "      <td>-0.002383</td>\n",
       "      <td>-0.002383</td>\n",
       "      <td>-0.002383</td>\n",
       "      <td>-0.002383</td>\n",
       "      <td>...</td>\n",
       "      <td>-0.002383</td>\n",
       "      <td>-0.002383</td>\n",
       "      <td>-0.002383</td>\n",
       "      <td>-0.002383</td>\n",
       "      <td>-0.002383</td>\n",
       "      <td>-0.002383</td>\n",
       "      <td>-0.002383</td>\n",
       "      <td>-0.002383</td>\n",
       "      <td>-0.002383</td>\n",
       "      <td>-0.002383</td>\n",
       "    </tr>\n",
       "  </tbody>\n",
       "</table>\n",
       "<p>5 rows × 1259 columns</p>\n",
       "</div>"
      ],
      "text/plain": [
       "       0         1         2         3         4         5         6     \\\n",
       "0 -0.003971 -0.003971 -0.003971 -0.003971 -0.003971 -0.003971 -0.003971   \n",
       "1 -0.003177 -0.003177 -0.003177 -0.003177 -0.003177 -0.003177 -0.003177   \n",
       "2 -0.008737 -0.008737 -0.008737 -0.008737 -0.008737 -0.008737 -0.008737   \n",
       "3 -0.003177 -0.003177 -0.003177 -0.003177 -0.003177 -0.003177 -0.003177   \n",
       "4 -0.002383 -0.002383 -0.002383 -0.002383 -0.002383 -0.002383 -0.002383   \n",
       "\n",
       "       7         8         9       ...         1249      1250      1251  \\\n",
       "0 -0.003971 -0.003971 -0.003971    ...    -0.003971 -0.003971 -0.003971   \n",
       "1 -0.003177 -0.003177 -0.003177    ...    -0.003177 -0.003177 -0.003177   \n",
       "2 -0.008737 -0.008737 -0.008737    ...    -0.008737 -0.008737 -0.008737   \n",
       "3 -0.003177 -0.003177 -0.003177    ...    -0.003177 -0.003177 -0.003177   \n",
       "4 -0.002383 -0.002383 -0.002383    ...    -0.002383 -0.002383 -0.002383   \n",
       "\n",
       "       1252      1253      1254      1255      1256      1257      1258  \n",
       "0 -0.003971 -0.003971 -0.003971 -0.003971 -0.003971 -0.003971 -0.003971  \n",
       "1 -0.003177 -0.003177 -0.003177 -0.003177 -0.003177 -0.003177 -0.003177  \n",
       "2 -0.008737 -0.008737 -0.008737 -0.008737 -0.008737 -0.008737 -0.008737  \n",
       "3 -0.003177 -0.003177 -0.003177 -0.003177 -0.003177 -0.003177 -0.003177  \n",
       "4 -0.002383 -0.002383 -0.002383 -0.002383 -0.002383 -0.002383 -0.002383  \n",
       "\n",
       "[5 rows x 1259 columns]"
      ]
     },
     "execution_count": 161,
     "metadata": {},
     "output_type": "execute_result"
    }
   ],
   "source": [
    "recipes_mc.head()"
   ]
  },
  {
   "cell_type": "code",
   "execution_count": 162,
   "metadata": {
    "ExecuteTime": {
     "end_time": "2018-04-09T20:40:27.026898Z",
     "start_time": "2018-04-09T20:39:42.388624Z"
    },
    "collapsed": true
   },
   "outputs": [],
   "source": [
    "from sklearn.metrics.pairwise import cosine_similarity\n",
    "\n",
    "sim_matrix = cosine_similarity(recipes_mc)\n",
    "recipe_sim = pd.DataFrame(sim_matrix, columns=recipes_mc.index, index=recipes_mc.index)"
   ]
  },
  {
   "cell_type": "code",
   "execution_count": null,
   "metadata": {
    "ExecuteTime": {
     "start_time": "2018-04-09T20:40:39.433Z"
    },
    "collapsed": true
   },
   "outputs": [],
   "source": [
    "import seaborn as sns\n",
    "sns.heatmap(recipe_sim, annot=True, cmap='coolwarm')"
   ]
  },
  {
   "cell_type": "markdown",
   "metadata": {},
   "source": [
    "### Inspect Recipe Vectorization"
   ]
  },
  {
   "cell_type": "code",
   "execution_count": 212,
   "metadata": {
    "ExecuteTime": {
     "end_time": "2018-04-06T04:16:26.418592Z",
     "start_time": "2018-04-06T04:16:26.389092Z"
    }
   },
   "outputs": [
    {
     "data": {
      "text/html": [
       "<div>\n",
       "<style scoped>\n",
       "    .dataframe tbody tr th:only-of-type {\n",
       "        vertical-align: middle;\n",
       "    }\n",
       "\n",
       "    .dataframe tbody tr th {\n",
       "        vertical-align: top;\n",
       "    }\n",
       "\n",
       "    .dataframe thead th {\n",
       "        text-align: right;\n",
       "    }\n",
       "</style>\n",
       "<table border=\"1\" class=\"dataframe\">\n",
       "  <thead>\n",
       "    <tr style=\"text-align: right;\">\n",
       "      <th></th>\n",
       "      <th>'1butter pie crust dough</th>\n",
       "      <th>'6large roma tomatoe</th>\n",
       "      <th>'able fish thick</th>\n",
       "      <th>'abtropfg kirschen stein</th>\n",
       "      <th>'acorn squash</th>\n",
       "      <th>'acorn squash roundish</th>\n",
       "      <th>'acorn squashe</th>\n",
       "      <th>'acquerello carnaroli rice</th>\n",
       "      <th>'acting yeast</th>\n",
       "      <th>'agnolotti</th>\n",
       "      <th>...</th>\n",
       "      <th>zucker nachw\\xfcrzen'</th>\n",
       "      <th>zucker rohrohrzucker</th>\n",
       "      <th>zucker salz wei\\xdfer</th>\n",
       "      <th>zucker vanillin zucker</th>\n",
       "      <th>zucker'</th>\n",
       "      <th>zuckererbsen</th>\n",
       "      <th>zukali</th>\n",
       "      <th>zup bean ogura bean</th>\n",
       "      <th>zwieb\\xe4cke kokos</th>\n",
       "      <th>zwiebelchen</th>\n",
       "    </tr>\n",
       "  </thead>\n",
       "  <tbody>\n",
       "    <tr>\n",
       "      <th>0</th>\n",
       "      <td>0</td>\n",
       "      <td>0</td>\n",
       "      <td>0</td>\n",
       "      <td>0</td>\n",
       "      <td>0</td>\n",
       "      <td>0</td>\n",
       "      <td>0</td>\n",
       "      <td>0</td>\n",
       "      <td>0</td>\n",
       "      <td>0</td>\n",
       "      <td>...</td>\n",
       "      <td>0</td>\n",
       "      <td>0</td>\n",
       "      <td>0</td>\n",
       "      <td>0</td>\n",
       "      <td>0</td>\n",
       "      <td>0</td>\n",
       "      <td>0</td>\n",
       "      <td>0</td>\n",
       "      <td>0</td>\n",
       "      <td>0</td>\n",
       "    </tr>\n",
       "    <tr>\n",
       "      <th>1</th>\n",
       "      <td>0</td>\n",
       "      <td>0</td>\n",
       "      <td>0</td>\n",
       "      <td>0</td>\n",
       "      <td>0</td>\n",
       "      <td>0</td>\n",
       "      <td>0</td>\n",
       "      <td>0</td>\n",
       "      <td>0</td>\n",
       "      <td>0</td>\n",
       "      <td>...</td>\n",
       "      <td>0</td>\n",
       "      <td>0</td>\n",
       "      <td>0</td>\n",
       "      <td>0</td>\n",
       "      <td>0</td>\n",
       "      <td>0</td>\n",
       "      <td>0</td>\n",
       "      <td>0</td>\n",
       "      <td>0</td>\n",
       "      <td>0</td>\n",
       "    </tr>\n",
       "    <tr>\n",
       "      <th>2</th>\n",
       "      <td>0</td>\n",
       "      <td>0</td>\n",
       "      <td>0</td>\n",
       "      <td>0</td>\n",
       "      <td>0</td>\n",
       "      <td>0</td>\n",
       "      <td>0</td>\n",
       "      <td>0</td>\n",
       "      <td>0</td>\n",
       "      <td>0</td>\n",
       "      <td>...</td>\n",
       "      <td>0</td>\n",
       "      <td>0</td>\n",
       "      <td>0</td>\n",
       "      <td>0</td>\n",
       "      <td>0</td>\n",
       "      <td>0</td>\n",
       "      <td>0</td>\n",
       "      <td>0</td>\n",
       "      <td>0</td>\n",
       "      <td>0</td>\n",
       "    </tr>\n",
       "    <tr>\n",
       "      <th>3</th>\n",
       "      <td>0</td>\n",
       "      <td>0</td>\n",
       "      <td>0</td>\n",
       "      <td>0</td>\n",
       "      <td>0</td>\n",
       "      <td>0</td>\n",
       "      <td>0</td>\n",
       "      <td>0</td>\n",
       "      <td>0</td>\n",
       "      <td>0</td>\n",
       "      <td>...</td>\n",
       "      <td>0</td>\n",
       "      <td>0</td>\n",
       "      <td>0</td>\n",
       "      <td>0</td>\n",
       "      <td>0</td>\n",
       "      <td>0</td>\n",
       "      <td>0</td>\n",
       "      <td>0</td>\n",
       "      <td>0</td>\n",
       "      <td>0</td>\n",
       "    </tr>\n",
       "    <tr>\n",
       "      <th>4</th>\n",
       "      <td>0</td>\n",
       "      <td>0</td>\n",
       "      <td>0</td>\n",
       "      <td>0</td>\n",
       "      <td>0</td>\n",
       "      <td>0</td>\n",
       "      <td>0</td>\n",
       "      <td>0</td>\n",
       "      <td>0</td>\n",
       "      <td>0</td>\n",
       "      <td>...</td>\n",
       "      <td>0</td>\n",
       "      <td>0</td>\n",
       "      <td>0</td>\n",
       "      <td>0</td>\n",
       "      <td>0</td>\n",
       "      <td>0</td>\n",
       "      <td>0</td>\n",
       "      <td>0</td>\n",
       "      <td>0</td>\n",
       "      <td>0</td>\n",
       "    </tr>\n",
       "  </tbody>\n",
       "</table>\n",
       "<p>5 rows × 41743 columns</p>\n",
       "</div>"
      ],
      "text/plain": [
       "   '1butter pie crust dough  '6large roma tomatoe  'able fish thick  \\\n",
       "0                         0                     0                 0   \n",
       "1                         0                     0                 0   \n",
       "2                         0                     0                 0   \n",
       "3                         0                     0                 0   \n",
       "4                         0                     0                 0   \n",
       "\n",
       "   'abtropfg kirschen stein  'acorn squash  'acorn squash roundish  \\\n",
       "0                         0              0                       0   \n",
       "1                         0              0                       0   \n",
       "2                         0              0                       0   \n",
       "3                         0              0                       0   \n",
       "4                         0              0                       0   \n",
       "\n",
       "   'acorn squashe  'acquerello carnaroli rice  'acting yeast  'agnolotti  \\\n",
       "0               0                           0              0           0   \n",
       "1               0                           0              0           0   \n",
       "2               0                           0              0           0   \n",
       "3               0                           0              0           0   \n",
       "4               0                           0              0           0   \n",
       "\n",
       "      ...       zucker nachw\\xfcrzen'  zucker rohrohrzucker  \\\n",
       "0     ...                           0                     0   \n",
       "1     ...                           0                     0   \n",
       "2     ...                           0                     0   \n",
       "3     ...                           0                     0   \n",
       "4     ...                           0                     0   \n",
       "\n",
       "   zucker salz wei\\xdfer  zucker vanillin zucker  zucker'  zuckererbsen  \\\n",
       "0                      0                       0        0             0   \n",
       "1                      0                       0        0             0   \n",
       "2                      0                       0        0             0   \n",
       "3                      0                       0        0             0   \n",
       "4                      0                       0        0             0   \n",
       "\n",
       "   zukali  zup bean ogura bean  zwieb\\xe4cke kokos  zwiebelchen  \n",
       "0       0                    0                   0            0  \n",
       "1       0                    0                   0            0  \n",
       "2       0                    0                   0            0  \n",
       "3       0                    0                   0            0  \n",
       "4       0                    0                   0            0  \n",
       "\n",
       "[5 rows x 41743 columns]"
      ]
     },
     "execution_count": 212,
     "metadata": {},
     "output_type": "execute_result"
    }
   ],
   "source": [
    "ingredient_cvector_dense.head()"
   ]
  },
  {
   "cell_type": "code",
   "execution_count": 213,
   "metadata": {
    "ExecuteTime": {
     "end_time": "2018-04-06T04:17:33.782649Z",
     "start_time": "2018-04-06T04:16:41.066174Z"
    }
   },
   "outputs": [
    {
     "name": "stdout",
     "output_type": "stream",
     "text": [
      "salt                               9930\n",
      "onion                              6908\n",
      "sugar                              5220\n",
      "olive oil                          4688\n",
      "clove garlic                       4585\n",
      "butter                             4337\n",
      "garlic clove                       3947\n",
      "water                              3535\n",
      "salt pepper                        3299\n",
      "purpose flour                      2723\n",
      "ground black pepper                2685\n",
      "cilantro                           2426\n",
      "kosher salt                        2408\n",
      "lemon juice                        2284\n",
      "extra virgin olive oil             2206\n",
      "ginger                             2168\n",
      "egg                                2094\n",
      "ground cumin                       1900\n",
      "pepper                             1835\n",
      "oregano                            1686\n",
      "vegetable oil                      1584\n",
      "chili powder                       1570\n",
      "black pepper                       1568\n",
      "milk                               1538\n",
      "eggs                               1529\n",
      "coarse salt ground pepper          1512\n",
      "cumin                              1509\n",
      "lime juice                         1496\n",
      "vanilla extract                    1403\n",
      "garlic                             1383\n",
      "                                   ... \n",
      "mayonnaise                          663\n",
      "green bell pepper                   662\n",
      "cilantro'                           642\n",
      "coarse salt                         636\n",
      "sesame oil                          634\n",
      "baking powder                       634\n",
      "tomato sauce                        631\n",
      "pepper flakes                       626\n",
      "bay                                 607\n",
      "fish sauce                          606\n",
      "bay leaves                          604\n",
      "salt ground black pepper            598\n",
      "worcestershire sauce                597\n",
      "mozzarella cheese                   593\n",
      "salt pepper'                        587\n",
      "dry white wine                      587\n",
      "ground coriander                    564\n",
      "flour                               560\n",
      "flat parsley                        555\n",
      "coconut milk                        553\n",
      "white onion                         551\n",
      "wine vinegar                        550\n",
      "parmesan cheese'                    550\n",
      "baking soda                         548\n",
      "kosher salt ground black pepper     545\n",
      "light brown sugar                   543\n",
      "salsa                               537\n",
      "oil                                 533\n",
      "shrimp                              512\n",
      "canola oil                          511\n",
      "Length: 100, dtype: int64\n"
     ]
    }
   ],
   "source": [
    "ingredient_word_count = ingredient_cvector_dense.sum(axis=0)    \n",
    "cw = ingredient_word_count.sort_values(ascending = False)\n",
    "print(cw[0:100])\n",
    "\n",
    "cw_dict = dict(cw)"
   ]
  },
  {
   "cell_type": "code",
   "execution_count": 214,
   "metadata": {
    "ExecuteTime": {
     "end_time": "2018-04-06T04:17:41.519011Z",
     "start_time": "2018-04-06T04:17:41.507920Z"
    }
   },
   "outputs": [
    {
     "data": {
      "text/plain": [
       "tsbp olive oil                                         1\n",
       "tso mustard                                            1\n",
       "tso salt                                               1\n",
       "tspc palm sugar'                                       1\n",
       "tspfish sauce                                          1\n",
       "tsweet potatoe                                         1\n",
       "ttomatoe                                               1\n",
       "tturmeric                                              1\n",
       "tuaca liqueur rum brandy marsala                       1\n",
       "tubetti ditali pasta                                   1\n",
       "tubetti pasta                                          1\n",
       "tuna brine                                             1\n",
       "tuna salad                                             1\n",
       "tuna steak aboutinch thick                             1\n",
       "tuna steak tuna                                        1\n",
       "tuna steak tuna steak sushi                            1\n",
       "tuna steak'                                            1\n",
       "tuna steaks'                                           1\n",
       "tupelo honey                                           1\n",
       "turbinado kosher salt cookie baking'                   1\n",
       "turbinado sugar cane sugar palm sugar                  1\n",
       "turbinado sugar coarse sugar                           1\n",
       "turbinado sugar rimming glass                          1\n",
       "turbinado sugar sugar sugar                            1\n",
       "turbinado sugar top                                    1\n",
       "turbinado sugar top'                                   1\n",
       "turkey breakfast sausage                               1\n",
       "turkey breast chicken                                  1\n",
       "turkey breast meat                                     1\n",
       "turkey breast tenderloins                              1\n",
       "                                                      ..\n",
       "turkey meat stock chicken meat                         1\n",
       "turkey meatball'                                       1\n",
       "turkey meatloaf'                                       1\n",
       "turkey neck giblet dry white turkey heritage turkey    1\n",
       "turkey neck giblet liver wing tip stock                1\n",
       "turkey neck giblet skin                                1\n",
       "turkey neck giblet'                                    1\n",
       "turkey neck giblets                                    1\n",
       "turkey neck gizzard                                    1\n",
       "turkey neck heart gizzard giblet broth                 1\n",
       "turkey neck wings                                      1\n",
       "turkey pancetta meatballs                              1\n",
       "turkey pancetta meatballs'                             1\n",
       "turkey sausage casing                                  1\n",
       "turkey sausage ground italian sausage                  1\n",
       "turkey sausage hot mild                                1\n",
       "turkey stock chicken                                   1\n",
       "turkey stock chicken stock low sodium chicken stock    1\n",
       "turkey stock liquefy sodium chicken broth              1\n",
       "turkey stock liquefy'                                  1\n",
       "turkey stock low sodium broth low sodium broth         1\n",
       "turkey stock low sodium chicken vegetable broth        1\n",
       "turkey stock neck giblet chicken stock                 1\n",
       "turkey sweet italian sausage casing                    1\n",
       "turkey thigh                                           1\n",
       "turkey thigh bone skin dry                             1\n",
       "turkey low salt chicken broth                          1\n",
       "turkey leg wings                                       1\n",
       "turkey brown sugar glaze                               1\n",
       "turkey italian sausages                                1\n",
       "Length: 100, dtype: int64"
      ]
     },
     "execution_count": 214,
     "metadata": {},
     "output_type": "execute_result"
    }
   ],
   "source": [
    "cw[30000:30100]"
   ]
  },
  {
   "cell_type": "markdown",
   "metadata": {},
   "source": [
    "### More EDA"
   ]
  },
  {
   "cell_type": "code",
   "execution_count": null,
   "metadata": {
    "collapsed": true
   },
   "outputs": [],
   "source": [
    "# distribution of ingredients in recipes"
   ]
  },
  {
   "cell_type": "code",
   "execution_count": null,
   "metadata": {
    "collapsed": true
   },
   "outputs": [],
   "source": [
    "# most common, least common ingredients\n",
    "# before and after non-descript word removal\n",
    "\n",
    "# "
   ]
  },
  {
   "cell_type": "code",
   "execution_count": null,
   "metadata": {
    "collapsed": true
   },
   "outputs": [],
   "source": [
    "# figure out input format?\n",
    "# maybe input prompt\n",
    "# or url scrape?"
   ]
  },
  {
   "cell_type": "code",
   "execution_count": null,
   "metadata": {
    "collapsed": true
   },
   "outputs": [],
   "source": [
    "# inventory the differences\n",
    "# suggest additional ingredients in order to complete both recipes"
   ]
  },
  {
   "cell_type": "code",
   "execution_count": null,
   "metadata": {
    "collapsed": true
   },
   "outputs": [],
   "source": []
  }
 ],
 "metadata": {
  "kernelspec": {
   "display_name": "Python [default]",
   "language": "python",
   "name": "python3"
  },
  "language_info": {
   "codemirror_mode": {
    "name": "ipython",
    "version": 3
   },
   "file_extension": ".py",
   "mimetype": "text/x-python",
   "name": "python",
   "nbconvert_exporter": "python",
   "pygments_lexer": "ipython3",
   "version": "3.6.4"
  },
  "varInspector": {
   "cols": {
    "lenName": 16,
    "lenType": 16,
    "lenVar": 40
   },
   "kernels_config": {
    "python": {
     "delete_cmd_postfix": "",
     "delete_cmd_prefix": "del ",
     "library": "var_list.py",
     "varRefreshCmd": "print(var_dic_list())"
    },
    "r": {
     "delete_cmd_postfix": ") ",
     "delete_cmd_prefix": "rm(",
     "library": "var_list.r",
     "varRefreshCmd": "cat(var_dic_list()) "
    }
   },
   "types_to_exclude": [
    "module",
    "function",
    "builtin_function_or_method",
    "instance",
    "_Feature"
   ],
   "window_display": false
  }
 },
 "nbformat": 4,
 "nbformat_minor": 2
}
